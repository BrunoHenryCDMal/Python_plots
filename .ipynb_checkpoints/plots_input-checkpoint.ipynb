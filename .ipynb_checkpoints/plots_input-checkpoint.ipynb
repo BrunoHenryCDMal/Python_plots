{
 "cells": [
  {
   "cell_type": "code",
   "execution_count": null,
   "metadata": {
    "collapsed": true
   },
   "outputs": [],
   "source": [
    "\n",
    "RedshiftsToRead = [True,True,True,True,True,False]\n",
    "\n",
    "PLANCK=1\n",
    "if PLANCK: \n",
    "    redshift=['0.00','0.40','1.04','2.07','3.11','3.95']\n",
    "\n",
    "\n",
    "\n",
    "    \n",
    "Datadir = '/net/bootes/export/data1/data/'\n",
    "\n",
    "#DirName_MR = '/net/bootes/scratch2/SAM/test1/MR/'\n",
    "#DirName_MRII = '/net/bootes/scratch2/SAM/test1/MRII/'\n",
    "\n",
    "DirName_MR = '/net/bootes/scratch2/SAM/Henriques2015a/snaps/MR/'\n",
    "DirName_MRII = '/net/bootes/scratch2/SAM/Henriques2015a/snaps/MRII/'\n",
    "\n",
    "\n"
   ]
  }
 ],
 "metadata": {
  "kernelspec": {
   "display_name": "Python 3",
   "language": "python",
   "name": "python3"
  },
  "language_info": {
   "codemirror_mode": {
    "name": "ipython",
    "version": 3
   },
   "file_extension": ".py",
   "mimetype": "text/x-python",
   "name": "python",
   "nbconvert_exporter": "python",
   "pygments_lexer": "ipython3",
   "version": "3.4.3"
  }
 },
 "nbformat": 4,
 "nbformat_minor": 0
}
