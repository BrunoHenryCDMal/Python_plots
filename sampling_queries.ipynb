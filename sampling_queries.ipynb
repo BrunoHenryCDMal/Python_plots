{
 "cells": [
  {
   "cell_type": "code",
   "execution_count": 1,
   "metadata": {},
   "outputs": [
    {
     "ename": "ImportError",
     "evalue": "No module named 'SciServer'",
     "output_type": "error",
     "traceback": [
      "\u001b[1;31m---------------------------------------------------------------------------\u001b[0m",
      "\u001b[1;31mImportError\u001b[0m                               Traceback (most recent call last)",
      "\u001b[1;32m<ipython-input-1-90a00b1727f7>\u001b[0m in \u001b[0;36m<module>\u001b[1;34m()\u001b[0m\n\u001b[1;32m----> 1\u001b[1;33m \u001b[1;32mimport\u001b[0m \u001b[0mSciServer\u001b[0m\u001b[1;33m.\u001b[0m\u001b[0mCasJobs\u001b[0m \u001b[1;32mas\u001b[0m \u001b[0mcj\u001b[0m\u001b[1;33m\u001b[0m\u001b[0m\n\u001b[0m\u001b[0;32m      2\u001b[0m \u001b[1;33m\u001b[0m\u001b[0m\n\u001b[0;32m      3\u001b[0m query = '''select GalaxyID,\n\u001b[0;32m      4\u001b[0m         \u001b[0mlastProgenitorId\u001b[0m\u001b[1;33m\u001b[0m\u001b[0m\n\u001b[0;32m      5\u001b[0m \u001b[0minto\u001b[0m \u001b[0mMyDB\u001b[0m\u001b[1;33m.\u001b[0m\u001b[0mBruno1\u001b[0m\u001b[1;33m\u001b[0m\u001b[0m\n",
      "\u001b[1;31mImportError\u001b[0m: No module named 'SciServer'"
     ]
    }
   ],
   "source": [
    "import SciServer.CasJobs as cj\n",
    "\n",
    "query = '''select GalaxyID,\n",
    "        lastProgenitorId\n",
    "into MyDB.Bruno1\n",
    "   from MRscPlanck1\n",
    "  where redshift >3 and stellarmass/0.673>10.\n",
    "    and Sfr/(stellarmass*1.e10/0.673)< 1.e-10'''\n",
    "\n",
    "DB = 'Henriques2015a'\n",
    "jobId = cj.submitJob(query,DB)\n",
    "\n",
    "cj.waitForJob(jobId)\n",
    "\n",
    "df=cj.executeQuery(\"select * from Bruno1\",\"MyDB\")"
   ]
  },
  {
   "cell_type": "code",
   "execution_count": null,
   "metadata": {
    "collapsed": true
   },
   "outputs": [],
   "source": []
  }
 ],
 "metadata": {
  "kernelspec": {
   "display_name": "Python 3",
   "language": "python",
   "name": "python3"
  },
  "language_info": {
   "codemirror_mode": {
    "name": "ipython",
    "version": 3
   },
   "file_extension": ".py",
   "mimetype": "text/x-python",
   "name": "python",
   "nbconvert_exporter": "python",
   "pygments_lexer": "ipython3",
   "version": "3.6.7"
  }
 },
 "nbformat": 4,
 "nbformat_minor": 1
}
