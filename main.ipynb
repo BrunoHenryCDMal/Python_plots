{
 "cells": [
  {
   "cell_type": "markdown",
   "metadata": {},
   "source": [
    "# Python Plots for LGalaxies"
   ]
  },
  {
   "cell_type": "markdown",
   "metadata": {},
   "source": [
    "## Import Libraries and Read Catalogs"
   ]
  },
  {
   "cell_type": "markdown",
   "metadata": {},
   "source": [
    "<p>Use functions read_snap or read_tree to read catalogs. These are both defined in procedures.py. In case of read_snap, SnapshotList will be returned containing the list of snapshots read (usefull to later select galaxies in a given redshift).<p>"
   ]
  },
  {
   "cell_type": "code",
   "execution_count": 90,
   "metadata": {
    "collapsed": false
   },
   "outputs": [
    {
     "name": "stdout",
     "output_type": "stream",
     "text": [
      "Populating the interactive namespace from numpy and matplotlib\n",
      "\n",
      "\n",
      "Reading Headers\n",
      "\n",
      "TotNgals= [3764950]\n",
      "\n",
      "\n",
      "File  0  nGals =  [2332354]\n",
      "File  1  nGals =  [1432596]\n",
      "reading done\n",
      "\n"
     ]
    },
    {
     "name": "stderr",
     "output_type": "stream",
     "text": [
      "WARNING: pylab import has clobbered these variables: ['ylim', 'xlim', 'subplot']\n",
      "`%matplotlib` prevents importing * from pylab and numpy\n"
     ]
    }
   ],
   "source": [
    "import numpy as np\n",
    "%matplotlib inline\n",
    "\n",
    "import pandas as pd\n",
    "\n",
    "%pylab inline\n",
    "#import seaborn as sns\n",
    "#sns.set_style('darkgrid')\n",
    "\n",
    "import matplotlib.pyplot as plt\n",
    "import matplotlib.gridspec as gridspec\n",
    "from astropy.table import Table\n",
    "from importlib import reload\n",
    "from matplotlib.ticker import MultipleLocator, FormatStrFormatter\n",
    "from matplotlib.backends.backend_pdf import PdfPages\n",
    "from matplotlib.colors import LogNorm\n",
    "from decimal import *\n",
    "\n",
    "import procedures\n",
    "reload (procedures)\n",
    "from procedures import *\n",
    "import plots_input\n",
    "reload (plots_input)\n",
    "from plots_input import *\n",
    "\n",
    "FirstFile = 0\n",
    "LastFile =  1\n",
    "\n",
    "Volume_MR = (BoxSize_MR**3.0) * (LastFile - FirstFile + 1) / MaxTreeFiles \n",
    "Volume_MRII = (BoxSize_MRII**3.0) * (LastFile - FirstFile + 1) / MaxTreeFiles \n",
    "\n",
    "if CatalogType=='snap':\n",
    "    from LGalaxies_Henriques2015a_struct import LGalaxiesStruct\n",
    "    from LGalaxies_Henriques2015a_struct import PropertiesToRead\n",
    "    (G_MR, SnapshotList) = read_snap(DirName_MR,FirstFile,LastFile,\n",
    "                     PropertiesToRead,LGalaxiesStruct,RedshiftsToRead,RedshiftList)\n",
    "    \n",
    "if CatalogType=='tree':    \n",
    "    from LGalaxies_tree_Henriques2015a_struct import LGalaxiesStruct\n",
    "    from LGalaxies_tree_Henriques2015a_struct import PropertiesToRead_tree    \n",
    "    (G_MR) = read_tree(DirName_MR,FirstFile,LastFile,\n",
    "                     PropertiesToRead_tree,LGalaxiesStruct,RedshiftsToRead,RedshiftList)    \n",
    "     \n",
    "    SnapshotList = np.zeros(len(RedshiftList),dtype=np.int32)\n",
    "    for ii in range(0,len(RedshiftList)):                  \n",
    "        G0=G_MR[ np.rint(G_MR['Redshift']*100.) == RedshiftList[ii]*100. ]             \n",
    "        SnapshotList[ii]=G0['SnapNum'][0]\n",
    "#endif      \n",
    "\n",
    "print('reading done\\n')\n",
    "#print (np.log10(gal['StellarMass'][1:5]*1.e10))\n",
    "#help(gal)\n",
    "\n",
    "\n",
    "plt.rcParams.update({'font.size': 18, 'xtick.labelsize': 18, 'ytick.labelsize': 18, 'axes.linewidth': 2, \n",
    "                     'xtick.major.size': 6, 'xtick.major.width': 1.5, \n",
    "                     'ytick.major.size': 6, 'ytick.major.width': 1.5, \n",
    "                     'xtick.minor.size': 3, 'xtick.minor.width': 1.,                   \n",
    "                     'ytick.minor.size': 3, 'ytick.minor.width': 1.})"
   ]
  },
  {
   "cell_type": "markdown",
   "metadata": {},
   "source": [
    "## Plots"
   ]
  },
  {
   "cell_type": "code",
   "execution_count": 91,
   "metadata": {
    "collapsed": false
   },
   "outputs": [],
   "source": [
    "\n",
    "with PdfPages('./fig/plots.pdf') as pdf:\n",
    "    import plots\n",
    "    reload (plots)\n",
    "    \n",
    "    if opt_stellar_mass_function==1:\n",
    "        from plots import stellar_mass_function\n",
    "        stellar_mass_function(G_MR, SnapshotList, Volume_MR, pdf)\n",
    "        \n",
    "    if opt_bluck_red_fractions==1:\n",
    "        from plots import bluck_red_fractions\n",
    "        bluck_red_fractions(G_MR, SnapshotList, pdf)\n",
    "             \n",
    "    if opt_test_plots==1:\n",
    "        from plots import test_plots     \n",
    "        test_plots(G_MR, SnapshotList, pdf)\n",
    "        \n",
    "#end with PdfPages('./fig/plots.pdf') as pdf: "
   ]
  },
  {
   "cell_type": "markdown",
   "metadata": {
    "collapsed": false
   },
   "source": [
    "## Animations"
   ]
  },
  {
   "cell_type": "code",
   "execution_count": 106,
   "metadata": {
    "collapsed": false
   },
   "outputs": [
    {
     "name": "stdout",
     "output_type": "stream",
     "text": [
      "finished\n",
      "doing frame: 0\n",
      "doing frame:"
     ]
    },
    {
     "name": "stderr",
     "output_type": "stream",
     "text": [
      "/Users/BrunoHenriques/anaconda/lib/python3.5/site-packages/matplotlib/collections.py:590: FutureWarning: elementwise comparison failed; returning scalar instead, but in the future will perform elementwise comparison\n",
      "  if self._edgecolors == str('face'):\n",
      "/Users/BrunoHenriques/anaconda/lib/python3.5/site-packages/matplotlib/collections.py:590: FutureWarning: elementwise comparison failed; returning scalar instead, but in the future will perform elementwise comparison\n",
      "  if self._edgecolors == str('face'):\n"
     ]
    },
    {
     "name": "stdout",
     "output_type": "stream",
     "text": [
      " 0\n",
      "doing frame: 1\n"
     ]
    },
    {
     "data": {
      "image/png": "[encoded data removed]",
      "text/plain": [
       "<matplotlib.figure.Figure at 0x2d6cc2be0>"
      ]
     },
     "metadata": {},
     "output_type": "display_data"
    }
   ],
   "source": [
    "import animations\n",
    "reload (animations)\n",
    "    \n",
    "if opt_anime_mass_gr==1:   \n",
    "    from animations import anime_mass_gr\n",
    "    anime_mass_gr(G_MR)"
   ]
  },
  {
   "cell_type": "code",
   "execution_count": null,
   "metadata": {
    "collapsed": true
   },
   "outputs": [],
   "source": []
  }
 ],
 "metadata": {
  "kernelspec": {
   "display_name": "Python 3",
   "language": "python",
   "name": "python3"
  },
  "language_info": {
   "codemirror_mode": {
    "name": "ipython",
    "version": 3
   },
   "file_extension": ".py",
   "mimetype": "text/x-python",
   "name": "python",
   "nbconvert_exporter": "python",
   "pygments_lexer": "ipython3",
   "version": "3.5.0"
  }
 },
 "nbformat": 4,
 "nbformat_minor": 0
}
