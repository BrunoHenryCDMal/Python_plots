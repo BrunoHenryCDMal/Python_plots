{
 "cells": [
  {
   "cell_type": "markdown",
   "metadata": {},
   "source": [
    "# Python Plots for LGalaxies"
   ]
  },
  {
   "cell_type": "markdown",
   "metadata": {},
   "source": [
    "## Import Libraries and Read Catalogs"
   ]
  },
  {
   "cell_type": "markdown",
   "metadata": {},
   "source": [
    "<p>Use functions read_snap or read_tree to read catalogs. These are both defined in procedures.py. In case of read_snap, SnapshotList will be returned containing the list of snapshots read (usefull to later select galaxies in a given redshift).<p>"
   ]
  },
  {
   "cell_type": "code",
   "execution_count": 132,
   "metadata": {
    "collapsed": false
   },
   "outputs": [
    {
     "name": "stdout",
     "output_type": "stream",
     "text": [
      "Populating the interactive namespace from numpy and matplotlib\n",
      "\n",
      "\n",
      "Reading Headers\n",
      "\n",
      "TotNgals= [1764817]\n",
      "\n",
      "\n",
      "File  40  nGals =  [1764817]\n",
      "reading done\n",
      "\n"
     ]
    }
   ],
   "source": [
    "import numpy as np\n",
    "%matplotlib inline\n",
    "\n",
    "import pandas as pd\n",
    "\n",
    "%pylab inline\n",
    "import seaborn as sns\n",
    "sns.set_style('darkgrid')\n",
    "\n",
    "import matplotlib.pyplot as plt\n",
    "import matplotlib.gridspec as gridspec\n",
    "from astropy.table import Table\n",
    "from importlib import reload\n",
    "from matplotlib.ticker import MultipleLocator, FormatStrFormatter\n",
    "from matplotlib.backends.backend_pdf import PdfPages\n",
    "from matplotlib.colors import LogNorm\n",
    "from decimal import *\n",
    "from matplotlib import animation\n",
    "\n",
    "import procedures\n",
    "reload (procedures)\n",
    "from procedures import *\n",
    "import plots_input\n",
    "reload (plots_input)\n",
    "from plots_input import *\n",
    "\n",
    "FirstFile = 40\n",
    "LastFile =  40\n",
    "\n",
    "Volume_MR = (BoxSize_MR**3.0) * (LastFile - FirstFile + 1) / MaxTreeFiles \n",
    "Volume_MRII = (BoxSize_MRII**3.0) * (LastFile - FirstFile + 1) / MaxTreeFiles \n",
    "\n",
    "if CatalogType=='snap':\n",
    "    from LGalaxies_Henriques2015a_struct import LGalaxiesStruct\n",
    "    from LGalaxies_Henriques2015a_struct import PropertiesToRead\n",
    "    (G_MR, SnapshotList) = read_snap(DirName_MR,FirstFile,LastFile,\n",
    "                     PropertiesToRead,LGalaxiesStruct,RedshiftsToRead,RedshiftList)\n",
    "    \n",
    "if CatalogType=='tree':    \n",
    "    from LGalaxies_tree_Henriques2015a_struct import LGalaxiesStruct\n",
    "    from LGalaxies_tree_Henriques2015a_struct import PropertiesToRead_tree    \n",
    "    (G_MR) = read_tree(DirName_MR,FirstFile,LastFile,\n",
    "                     PropertiesToRead_tree,LGalaxiesStruct,RedshiftsToRead,RedshiftList)    \n",
    "     \n",
    "    SnapshotList = np.zeros(len(RedshiftList),dtype=np.int32)\n",
    "    for ii in range(0,len(RedshiftList)):                  \n",
    "        G0=G_MR[ np.rint(G_MR['Redshift']*100.) == RedshiftList[ii]*100. ]             \n",
    "        SnapshotList[ii]=G0['SnapNum'][0]\n",
    "#endif      \n",
    "\n",
    "print('reading done\\n')\n",
    "#print (np.log10(gal['StellarMass'][1:5]*1.e10))\n",
    "#help(gal)\n"
   ]
  },
  {
   "cell_type": "markdown",
   "metadata": {},
   "source": [
    "## Plots"
   ]
  },
  {
   "cell_type": "code",
   "execution_count": 56,
   "metadata": {
    "collapsed": false
   },
   "outputs": [],
   "source": [
    "plt.rcParams.update({'font.size': 18, 'xtick.labelsize': 18, 'ytick.labelsize': 18, 'axes.linewidth': 2, \n",
    "                     'xtick.major.size': 6, 'xtick.major.width': 1.5, \n",
    "                     'ytick.major.size': 6, 'ytick.major.width': 1.5, \n",
    "                     'xtick.minor.size': 3, 'xtick.minor.width': 1.,                   \n",
    "                     'ytick.minor.size': 3, 'ytick.minor.width': 1.})"
   ]
  },
  {
   "cell_type": "code",
   "execution_count": 134,
   "metadata": {
    "collapsed": false
   },
   "outputs": [
    {
     "name": "stderr",
     "output_type": "stream",
     "text": [
      "/export/data1/Workspace/GitHub_Python_plots/env/local/lib/python3.4/site-packages/matplotlib/animation.py:752: UserWarning: MovieWriter ffmpeg unavailable\n",
      "  warnings.warn(\"MovieWriter %s unavailable\" % writer)\n"
     ]
    },
    {
     "ename": "RuntimeError",
     "evalue": "Error creating movie, return code: 1 Try running with --verbose-debug",
     "output_type": "error",
     "traceback": [
      "\u001b[1;31m---------------------------------------------------------------------------\u001b[0m",
      "\u001b[1;31mRuntimeError\u001b[0m                              Traceback (most recent call last)",
      "\u001b[1;32m<ipython-input-134-c8c06935689d>\u001b[0m in \u001b[0;36m<module>\u001b[1;34m()\u001b[0m\n\u001b[0;32m     37\u001b[0m                                    frames=206, interval=20, blit=True)\n\u001b[0;32m     38\u001b[0m \u001b[1;33m\u001b[0m\u001b[0m\n\u001b[1;32m---> 39\u001b[1;33m     \u001b[0manim\u001b[0m\u001b[1;33m.\u001b[0m\u001b[0msave\u001b[0m\u001b[1;33m(\u001b[0m\u001b[1;34m'basic_animation.mp4'\u001b[0m\u001b[1;33m,\u001b[0m \u001b[0mfps\u001b[0m\u001b[1;33m=\u001b[0m\u001b[1;36m30\u001b[0m\u001b[1;33m,\u001b[0m \u001b[0mextra_args\u001b[0m\u001b[1;33m=\u001b[0m\u001b[1;33m[\u001b[0m\u001b[1;34m'-vcodec'\u001b[0m\u001b[1;33m,\u001b[0m \u001b[1;34m'libx264'\u001b[0m\u001b[1;33m]\u001b[0m\u001b[1;33m)\u001b[0m\u001b[1;33m\u001b[0m\u001b[0m\n\u001b[0m\u001b[0;32m     40\u001b[0m     \u001b[0mplt\u001b[0m\u001b[1;33m.\u001b[0m\u001b[0mshow\u001b[0m\u001b[1;33m(\u001b[0m\u001b[1;33m)\u001b[0m\u001b[1;33m\u001b[0m\u001b[0m\n\u001b[0;32m     41\u001b[0m \u001b[1;33m\u001b[0m\u001b[0m\n",
      "\u001b[1;32m/export/data1/Workspace/GitHub_Python_plots/env/local/lib/python3.4/site-packages/matplotlib/animation.py\u001b[0m in \u001b[0;36msave\u001b[1;34m(self, filename, writer, fps, dpi, codec, bitrate, extra_args, metadata, extra_anim, savefig_kwargs)\u001b[0m\n\u001b[0;32m    778\u001b[0m                     \u001b[1;31m# TODO: Need to see if turning off blit is really necessary\u001b[0m\u001b[1;33m\u001b[0m\u001b[1;33m\u001b[0m\u001b[0m\n\u001b[0;32m    779\u001b[0m                     \u001b[0manim\u001b[0m\u001b[1;33m.\u001b[0m\u001b[0m_draw_next_frame\u001b[0m\u001b[1;33m(\u001b[0m\u001b[0md\u001b[0m\u001b[1;33m,\u001b[0m \u001b[0mblit\u001b[0m\u001b[1;33m=\u001b[0m\u001b[1;32mFalse\u001b[0m\u001b[1;33m)\u001b[0m\u001b[1;33m\u001b[0m\u001b[0m\n\u001b[1;32m--> 780\u001b[1;33m                 \u001b[0mwriter\u001b[0m\u001b[1;33m.\u001b[0m\u001b[0mgrab_frame\u001b[0m\u001b[1;33m(\u001b[0m\u001b[1;33m**\u001b[0m\u001b[0msavefig_kwargs\u001b[0m\u001b[1;33m)\u001b[0m\u001b[1;33m\u001b[0m\u001b[0m\n\u001b[0m\u001b[0;32m    781\u001b[0m \u001b[1;33m\u001b[0m\u001b[0m\n\u001b[0;32m    782\u001b[0m         \u001b[1;31m# Reconnect signal for first draw if necessary\u001b[0m\u001b[1;33m\u001b[0m\u001b[1;33m\u001b[0m\u001b[0m\n",
      "\u001b[1;32m/usr/lib/python3.4/contextlib.py\u001b[0m in \u001b[0;36m__exit__\u001b[1;34m(self, type, value, traceback)\u001b[0m\n\u001b[0;32m     64\u001b[0m         \u001b[1;32mif\u001b[0m \u001b[0mtype\u001b[0m \u001b[1;32mis\u001b[0m \u001b[1;32mNone\u001b[0m\u001b[1;33m:\u001b[0m\u001b[1;33m\u001b[0m\u001b[0m\n\u001b[0;32m     65\u001b[0m             \u001b[1;32mtry\u001b[0m\u001b[1;33m:\u001b[0m\u001b[1;33m\u001b[0m\u001b[0m\n\u001b[1;32m---> 66\u001b[1;33m                 \u001b[0mnext\u001b[0m\u001b[1;33m(\u001b[0m\u001b[0mself\u001b[0m\u001b[1;33m.\u001b[0m\u001b[0mgen\u001b[0m\u001b[1;33m)\u001b[0m\u001b[1;33m\u001b[0m\u001b[0m\n\u001b[0m\u001b[0;32m     67\u001b[0m             \u001b[1;32mexcept\u001b[0m \u001b[0mStopIteration\u001b[0m\u001b[1;33m:\u001b[0m\u001b[1;33m\u001b[0m\u001b[0m\n\u001b[0;32m     68\u001b[0m                 \u001b[1;32mreturn\u001b[0m\u001b[1;33m\u001b[0m\u001b[0m\n",
      "\u001b[1;32m/export/data1/Workspace/GitHub_Python_plots/env/local/lib/python3.4/site-packages/matplotlib/animation.py\u001b[0m in \u001b[0;36msaving\u001b[1;34m(self, *args)\u001b[0m\n\u001b[0;32m    189\u001b[0m         \u001b[0mself\u001b[0m\u001b[1;33m.\u001b[0m\u001b[0msetup\u001b[0m\u001b[1;33m(\u001b[0m\u001b[1;33m*\u001b[0m\u001b[0margs\u001b[0m\u001b[1;33m)\u001b[0m\u001b[1;33m\u001b[0m\u001b[0m\n\u001b[0;32m    190\u001b[0m         \u001b[1;32myield\u001b[0m\u001b[1;33m\u001b[0m\u001b[0m\n\u001b[1;32m--> 191\u001b[1;33m         \u001b[0mself\u001b[0m\u001b[1;33m.\u001b[0m\u001b[0mfinish\u001b[0m\u001b[1;33m(\u001b[0m\u001b[1;33m)\u001b[0m\u001b[1;33m\u001b[0m\u001b[0m\n\u001b[0m\u001b[0;32m    192\u001b[0m \u001b[1;33m\u001b[0m\u001b[0m\n\u001b[0;32m    193\u001b[0m     \u001b[1;32mdef\u001b[0m \u001b[0m_run\u001b[0m\u001b[1;33m(\u001b[0m\u001b[0mself\u001b[0m\u001b[1;33m)\u001b[0m\u001b[1;33m:\u001b[0m\u001b[1;33m\u001b[0m\u001b[0m\n",
      "\u001b[1;32m/export/data1/Workspace/GitHub_Python_plots/env/local/lib/python3.4/site-packages/matplotlib/animation.py\u001b[0m in \u001b[0;36mfinish\u001b[1;34m(self)\u001b[0m\n\u001b[0;32m    380\u001b[0m             raise RuntimeError('Error creating movie, return code: '\n\u001b[0;32m    381\u001b[0m                                \u001b[1;33m+\u001b[0m \u001b[0mstr\u001b[0m\u001b[1;33m(\u001b[0m\u001b[0mself\u001b[0m\u001b[1;33m.\u001b[0m\u001b[0m_proc\u001b[0m\u001b[1;33m.\u001b[0m\u001b[0mreturncode\u001b[0m\u001b[1;33m)\u001b[0m\u001b[1;33m\u001b[0m\u001b[0m\n\u001b[1;32m--> 382\u001b[1;33m                                + ' Try running with --verbose-debug')\n\u001b[0m\u001b[0;32m    383\u001b[0m \u001b[1;33m\u001b[0m\u001b[0m\n\u001b[0;32m    384\u001b[0m     \u001b[1;32mdef\u001b[0m \u001b[0mcleanup\u001b[0m\u001b[1;33m(\u001b[0m\u001b[0mself\u001b[0m\u001b[1;33m)\u001b[0m\u001b[1;33m:\u001b[0m\u001b[1;33m\u001b[0m\u001b[0m\n",
      "\u001b[1;31mRuntimeError\u001b[0m: Error creating movie, return code: 1 Try running with --verbose-debug"
     ]
    },
    {
     "data": {
      "image/png": "[encoded data removed]",
      "text/plain": [
       "<matplotlib.figure.Figure at 0x7fad8e8657b8>"
      ]
     },
     "metadata": {},
     "output_type": "display_data"
    }
   ],
   "source": [
    "#with PdfPages('./fig/plots.pdf') as pdf:\n",
    "aa=1\n",
    "if aa==1:\n",
    "    import plots\n",
    "    reload (plots)\n",
    "    \n",
    "    if opt_stellar_mass_function==1:\n",
    "        from plots import stellar_mass_function\n",
    "        stellar_mass_function(G_MR, SnapshotList, Volume_MR, pdf)\n",
    "        \n",
    "    if opt_bluck_red_fractions==1:\n",
    "        from plots import bluck_red_fractions\n",
    "        bluck_red_fractions(G_MR, SnapshotList, pdf)\n",
    "             \n",
    "    if opt_test_plots==1:\n",
    "        from plots import test_plots     \n",
    "        test_plots(G_MR, SnapshotList, pdf)\n",
    "        \n",
    "    fig = plt.figure()\n",
    "    ax = plt.axes(xlim=(0, 2), ylim=(-2, 2))\n",
    "    line, = ax.plot([], [], lw=2)    \n",
    "   \n",
    "    # initialization function: plot the background of each frame\n",
    "    def init():\n",
    "        line.set_data([], [])\n",
    "        return line,\n",
    "\n",
    "    # animation function.  This is called sequentially\n",
    "    def animate(i):\n",
    "        x = np.linspace(0, 2, 1000)\n",
    "        y = np.sin(2 * np.pi * (x - 0.01 * i))\n",
    "        line.set_data(x, y)\n",
    "        return line,\n",
    "\n",
    "    # call the animator.  blit=True means only re-draw the parts that have changed.\n",
    "    anim = animation.FuncAnimation(fig, animate, init_func=init,\n",
    "                                   frames=200, interval=20, blit=True)\n",
    "    \n",
    "    anim.save('basic_animation.mp4', fps=30, extra_args=['-vcodec', 'libx264'])\n",
    "    plt.show()\n",
    "        \n",
    "    if opt_gr_mass==1:\n",
    "        xmin=9.4\n",
    "        xmax=11.\n",
    "        ymin=0.2\n",
    "        ymax=1.0\n",
    "        bin=0.1\n",
    "\n",
    "\n",
    "        #plt.rcParams.update({'xtick.major.width': 1.0, 'ytick.major.width': 1.0, \n",
    "                             #'xtick.minor.width': 1.0, 'ytick.minor.width': 1.0})\n",
    "\n",
    "        fig = plt.figure(figsize=(9,9)) \n",
    "        #subplot=plt.subplot()\n",
    "        #subplot.set_ylim([ymin, ymax]), subplot.set_xlim([xmin, xmax])         \n",
    "        #xlab='$log_{10}(M_*[h^{-2}M_{\\odot}])$'          \n",
    "        #ylab='$log_{10}(\\phi [h^3 Mpc^{-3} log_{10}(M^{-1})])$'             \n",
    "        #subplot.set_xlabel(xlab, fontsize=16), subplot.set_ylabel(ylab, fontsize=16)\n",
    "       \n",
    "    \n",
    "        #MODEL    \n",
    "        sel= (G_MR['SnapNum']==SnapshotList[0])          \n",
    "        G0_MR=G_MR[sel]        \n",
    "        G0_MR=G0_MR[G0_MR['StellarMass']>0.1]\n",
    "        Ngals=len(G0_MR)\n",
    "        StellarMass=(np.log10(G0_MR['StellarMass']*1.e10*Hubble_h))     \n",
    "        color_gr=G0_MR['MagDust'][:,16]-G0_MR['MagDust'][:,17]          \n",
    "        d = {'StellarMass' : pd.Series(StellarMass,index=np.zeros(Ngals,dtype=np.int32)),\n",
    "             'color_gr'    : pd.Series(color_gr,index=np.zeros(Ngals,dtype=np.int32))}       \n",
    "        df = pd.DataFrame(d)\n",
    "        \n",
    "        #joint plots    \n",
    "        g = sns.JointGrid(x=\"StellarMass\", y=\"color_gr\", data=df, xlim=(xmin, xmax), ylim=(ymin, ymax))  \n",
    "        g.plot_joint(sns.kdeplot, shade=True, n_levels=20, cut=10., bw=0.2, shade_lowest=False)  \n",
    "        g.plot_marginals(sns.distplot)  \n",
    "    \n",
    "        \n",
    "        #ani = animation.FuncAnimation(fig,update_img,300,interval=30)\n",
    "        #writer = animation.writers['ffmpeg'](fps=30)\n",
    "        #ani.save('./demo.mp4',writer=writer,dpi=dpi)\n",
    "        \n",
    "        #LABELS      \n",
    "        #subplot.text(7.4, 0.0, 'Observations used in MCMC', fontsize= 13)\n",
    "        #subplot.errorbar(7.3, 0.12, yerr=0.1, fmt='o', markersize=5, color='blue')\n",
    "    \n",
    "        #subplot.text(7.7, -5.0, 'This Work', fontsize= 13)\n",
    "        #subplot.plot([7.3,7.6], [-4.9,-4.9], linestyle='-', linewidth=2, color='red')    \n",
    "   \n",
    "\n",
    "        #plt.tight_layout()\n",
    "        #plt.savefig('./fig/plots_gr_colour.pdf')\n",
    "        #pdf.savefig()\n",
    "        #plt.close()\n",
    "        \n",
    "    #endif opt_gr_mass==1:\n",
    "  "
   ]
  },
  {
   "cell_type": "code",
   "execution_count": 13,
   "metadata": {
    "collapsed": false
   },
   "outputs": [],
   "source": []
  },
  {
   "cell_type": "code",
   "execution_count": 10,
   "metadata": {
    "collapsed": true
   },
   "outputs": [],
   "source": []
  },
  {
   "cell_type": "code",
   "execution_count": null,
   "metadata": {
    "collapsed": true
   },
   "outputs": [],
   "source": []
  }
 ],
 "metadata": {
  "kernelspec": {
   "display_name": "Python 3",
   "language": "python",
   "name": "python3"
  },
  "language_info": {
   "codemirror_mode": {
    "name": "ipython",
    "version": 3
   },
   "file_extension": ".py",
   "mimetype": "text/x-python",
   "name": "python",
   "nbconvert_exporter": "python",
   "pygments_lexer": "ipython3",
   "version": "3.4.3"
  }
 },
 "nbformat": 4,
 "nbformat_minor": 0
}
