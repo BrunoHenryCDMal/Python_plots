{
 "cells": [
  {
   "cell_type": "markdown",
   "metadata": {},
   "source": [
    "# Python Plots for LGalaxies"
   ]
  },
  {
   "cell_type": "markdown",
   "metadata": {},
   "source": [
    "## Import Libraries and Read Catalogs"
   ]
  },
  {
   "cell_type": "markdown",
   "metadata": {},
   "source": [
    "<p>Use functions read_snap or read_tree to read catalogs. These are both defined in procedures.py. In case of read_snap, SnapshotList will be returned containing the list of snapshots read (usefull to later select galaxies in a given redshift).<p>"
   ]
  },
  {
   "cell_type": "code",
   "execution_count": 1,
   "metadata": {
    "collapsed": false
   },
   "outputs": [
    {
     "name": "stdout",
     "output_type": "stream",
     "text": [
      "Populating the interactive namespace from numpy and matplotlib\n",
      "\n",
      "\n",
      "Reading Headers\n",
      "\n",
      "TotNgals= [37277179]\n",
      "\n",
      "\n",
      "File  0  nGals =  [2332354]\n",
      "File  1  nGals =  [1432596]\n",
      "File  2  nGals =  [1419994]\n",
      "File  3  nGals =  [1197118]\n",
      "File  4  nGals =  [1724741]\n",
      "File  5  nGals =  [1872305]\n",
      "File  6  nGals =  [2455764]\n",
      "File  7  nGals =  [2079173]\n",
      "File  8  nGals =  [1483950]\n",
      "File  9  nGals =  [1571856]\n",
      "File  10  nGals =  [2320518]\n",
      "File  11  nGals =  [1869883]\n",
      "File  12  nGals =  [2231795]\n",
      "File  13  nGals =  [2097441]\n",
      "File  14  nGals =  [1833687]\n",
      "File  15  nGals =  [1742179]\n",
      "File  16  nGals =  [1650730]\n",
      "File  17  nGals =  [2860344]\n",
      "File  18  nGals =  [1932021]\n",
      "File  19  nGals =  [1168730]\n",
      "reading done\n",
      "\n"
     ]
    }
   ],
   "source": [
    "import numpy as np\n",
    "%matplotlib inline\n",
    "\n",
    "import pandas as pd\n",
    "\n",
    "%pylab inline\n",
    "#import seaborn as sns\n",
    "#sns.set_style('darkgrid')\n",
    "\n",
    "import matplotlib.pyplot as plt\n",
    "import matplotlib.gridspec as gridspec\n",
    "from astropy.table import Table\n",
    "from importlib import reload\n",
    "from matplotlib.ticker import MultipleLocator, FormatStrFormatter\n",
    "from matplotlib.backends.backend_pdf import PdfPages\n",
    "from matplotlib.colors import LogNorm\n",
    "from decimal import *\n",
    "from matplotlib import animation\n",
    "from matplotlib.colors import LinearSegmentedColormap\n",
    "from scipy.ndimage import zoom \n",
    "\n",
    "import procedures\n",
    "reload (procedures)\n",
    "from procedures import *\n",
    "import plots_input\n",
    "reload (plots_input)\n",
    "from plots_input import *\n",
    "\n",
    "FirstFile = 0\n",
    "LastFile =  19\n",
    "\n",
    "Volume_MR = (BoxSize_MR**3.0) * (LastFile - FirstFile + 1) / MaxTreeFiles \n",
    "Volume_MRII = (BoxSize_MRII**3.0) * (LastFile - FirstFile + 1) / MaxTreeFiles \n",
    "\n",
    "if CatalogType=='snap':\n",
    "    from LGalaxies_Henriques2015a_struct import LGalaxiesStruct\n",
    "    from LGalaxies_Henriques2015a_struct import PropertiesToRead\n",
    "    (G_MR, SnapshotList) = read_snap(DirName_MR,FirstFile,LastFile,\n",
    "                     PropertiesToRead,LGalaxiesStruct,RedshiftsToRead,RedshiftList)\n",
    "    \n",
    "if CatalogType=='tree':    \n",
    "    from LGalaxies_tree_Henriques2015a_struct import LGalaxiesStruct\n",
    "    from LGalaxies_tree_Henriques2015a_struct import PropertiesToRead_tree    \n",
    "    (G_MR) = read_tree(DirName_MR,FirstFile,LastFile,\n",
    "                     PropertiesToRead_tree,LGalaxiesStruct,RedshiftsToRead,RedshiftList)    \n",
    "     \n",
    "    SnapshotList = np.zeros(len(RedshiftList),dtype=np.int32)\n",
    "    for ii in range(0,len(RedshiftList)):                  \n",
    "        G0=G_MR[ np.rint(G_MR['Redshift']*100.) == RedshiftList[ii]*100. ]             \n",
    "        SnapshotList[ii]=G0['SnapNum'][0]\n",
    "#endif      \n",
    "\n",
    "print('reading done\\n')\n",
    "#print (np.log10(gal['StellarMass'][1:5]*1.e10))\n",
    "#help(gal)\n",
    "\n"
   ]
  },
  {
   "cell_type": "markdown",
   "metadata": {},
   "source": [
    "## Plots"
   ]
  },
  {
   "cell_type": "code",
   "execution_count": 56,
   "metadata": {
    "collapsed": false
   },
   "outputs": [],
   "source": [
    "plt.rcParams.update({'font.size': 18, 'xtick.labelsize': 18, 'ytick.labelsize': 18, 'axes.linewidth': 2, \n",
    "                     'xtick.major.size': 6, 'xtick.major.width': 1.5, \n",
    "                     'ytick.major.size': 6, 'ytick.major.width': 1.5, \n",
    "                     'xtick.minor.size': 3, 'xtick.minor.width': 1.,                   \n",
    "                     'ytick.minor.size': 3, 'ytick.minor.width': 1.})"
   ]
  },
  {
   "cell_type": "code",
   "execution_count": null,
   "metadata": {
    "collapsed": false
   },
   "outputs": [
    {
     "name": "stdout",
     "output_type": "stream",
     "text": [
      "doing frame: 0\n",
      "doing frame:"
     ]
    },
    {
     "name": "stderr",
     "output_type": "stream",
     "text": [
      "/Users/BrunoHenriques/anaconda/lib/python3.5/site-packages/matplotlib/collections.py:590: FutureWarning: elementwise comparison failed; returning scalar instead, but in the future will perform elementwise comparison\n",
      "  if self._edgecolors == str('face'):\n",
      "/Users/BrunoHenriques/anaconda/lib/python3.5/site-packages/matplotlib/collections.py:590: FutureWarning: elementwise comparison failed; returning scalar instead, but in the future will perform elementwise comparison\n",
      "  if self._edgecolors == str('face'):\n"
     ]
    },
    {
     "name": "stdout",
     "output_type": "stream",
     "text": [
      " 0\n",
      "doing frame: 1\n",
      "doing frame: 2\n",
      "doing frame: 3\n",
      "doing frame: 4\n",
      "doing frame: 5\n",
      "doing frame: 6\n",
      "doing frame:"
     ]
    }
   ],
   "source": [
    "with PdfPages('./fig/plots.pdf') as pdf:\n",
    "    import plots\n",
    "    reload (plots)\n",
    "    \n",
    "    if opt_stellar_mass_function==1:\n",
    "        from plots import stellar_mass_function\n",
    "        stellar_mass_function(G_MR, SnapshotList, Volume_MR, pdf)\n",
    "        \n",
    "    if opt_bluck_red_fractions==1:\n",
    "        from plots import bluck_red_fractions\n",
    "        bluck_red_fractions(G_MR, SnapshotList, pdf)\n",
    "             \n",
    "    if opt_test_plots==1:\n",
    "        from plots import test_plots     \n",
    "        test_plots(G_MR, SnapshotList, pdf)\n",
    "        \n",
    "#end with PdfPages('./fig/plots.pdf') as pdf:\n",
    "\n",
    "opt_anime_mass_gr=1\n",
    "if opt_anime_mass_gr==1:   \n",
    "    \n",
    "    from scipy.ndimage import zoom \n",
    "    from procedures import *\n",
    "    \n",
    "    xlim=[9.7,11.5]\n",
    "    ylim=[0.1, 1.0]\n",
    "    bin=[0.1,0.05]\n",
    "    Nbins=[int((xlim[1]-xlim[0])/bin[0]),int((ylim[1]-ylim[0])/bin[1])]\n",
    "    \n",
    "    fig = plt.figure(figsize=(13,9))    \n",
    "    subplot=plt.subplot()\n",
    "    subplot.set_ylim(ylim), subplot.set_xlim(xlim)        \n",
    "    #ax = plt.axes(xlim=xlim, ylim=ylim)      \n",
    "    xlab='$log_{10}(M_*[M_{\\odot}])$'           \n",
    "    ylab='$g-r$'               \n",
    "    subplot.set_xlabel(xlab, fontsize=16), subplot.set_ylabel(ylab, fontsize=16)  \n",
    "    yy= np.linspace(0.,1.,1000.)    \n",
    "    # animation function\n",
    "    \n",
    "    def animate(nframe): \n",
    "        print('doing frame:',nframe)  \n",
    "        #clear previous image\n",
    "        clf()\n",
    "        subplot=plt.subplot()\n",
    "        subplot.set_ylim(ylim), subplot.set_xlim(xlim)         \n",
    "        subplot.set_xlabel(xlab, fontsize=16), subplot.set_ylabel(ylab, fontsize=16)               \n",
    "        x=[xlim[0],xlim[1]]    \n",
    "        #fill the entire plot area to delete previous frame, plot axis\n",
    "        subplot.fill_between(x, [ylim[1],ylim[1]], [ylim[0],ylim[0]], facecolor='lavender')                \n",
    "        for jj in range (1,10):\n",
    "            value=9.5++jj/4.\n",
    "            shift=0.003\n",
    "            subplot.fill_between([value-shift,value+shift], [ylim[1],ylim[1]], [ylim[0],ylim[0]], facecolor='white',edgecolor=\"w\")\n",
    "            value=jj/10.\n",
    "            shift=0.002            \n",
    "            subplot.fill_between(x, [value+shift,value+shift], [value-shift,value-shift], facecolor='white',edgecolor=\"w\")\n",
    "                  \n",
    "        #label        \n",
    "        G0=G_MR[G_MR['SnapNum']==nframe+20] \n",
    "        props = dict(boxstyle='round', facecolor='ghostwhite')\n",
    "        subplot.text(10.83, 0.165, 'z='+'%0.2f\\n' % G0['Redshift'][0] \n",
    "                     + 'Age='+'%0.2f' % redshift_to_time(G0['Redshift'][0])+' Gyr', \n",
    "                     fontsize= 24, bbox=props)\n",
    "            \n",
    "        #ignore first 20 snaps which have no galaxies \n",
    "        G0_MR=G_MR[(G_MR['StellarMass']>0.1) & (G_MR['SnapNum']==nframe+20)]  \n",
    "        Ngals=len(G0_MR)\n",
    "        StellarMass=(np.log10(G0_MR['StellarMass']*1.e10/Hubble_h))     \n",
    "        color_gr=G0_MR['MagDust'][:,16]-G0_MR['MagDust'][:,17]                   \n",
    "        H, xedges, yedges = np.histogram2d(StellarMass, color_gr, bins=Nbins)            \n",
    "        extent = [xedges[0], xedges[-1],yedges[0], yedges[-1]]       \n",
    "        subplots_adjust(bottom=0.15, left=0.15)        \n",
    "        mylevels = np.linspace(1., Nbins[0], Nbins[0])*Ngals/(Nbins[0]**2/0.7)        \n",
    "        H = zoom(H, 20)    \n",
    "        cont=contourf(H.transpose()[::], origin='lower', cmap='rainbow', levels=mylevels, extent=extent)        \n",
    "        plt.colorbar()\n",
    "        return cont  \n",
    "    #end animate\n",
    "    \n",
    "    anim = animation.FuncAnimation(fig, animate, frames=39, blit=True)\n",
    "    #plt.colorbar()\n",
    "    anim.save('mass_gr.m4v', fps=1)\n",
    "    \n",
    "print('finished')\n",
    "  "
   ]
  },
  {
   "cell_type": "code",
   "execution_count": 13,
   "metadata": {
    "collapsed": false
   },
   "outputs": [],
   "source": []
  },
  {
   "cell_type": "code",
   "execution_count": 10,
   "metadata": {
    "collapsed": true
   },
   "outputs": [],
   "source": []
  },
  {
   "cell_type": "code",
   "execution_count": null,
   "metadata": {
    "collapsed": true
   },
   "outputs": [],
   "source": []
  }
 ],
 "metadata": {
  "kernelspec": {
   "display_name": "Python 3",
   "language": "python",
   "name": "python3"
  },
  "language_info": {
   "codemirror_mode": {
    "name": "ipython",
    "version": 3
   },
   "file_extension": ".py",
   "mimetype": "text/x-python",
   "name": "python",
   "nbconvert_exporter": "python",
   "pygments_lexer": "ipython3",
   "version": "3.5.0"
  }
 },
 "nbformat": 4,
 "nbformat_minor": 0
}
