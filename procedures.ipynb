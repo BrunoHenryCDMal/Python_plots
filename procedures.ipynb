{
 "cells": [
  {
   "cell_type": "code",
   "execution_count": 1,
   "metadata": {
    "collapsed": false
   },
   "outputs": [],
   "source": [
    "import numpy as np\n",
    "\n",
    "def read_snap(folder,file_prefix,firstfile,lastfile,props,template):    \n",
    "    \"\"\" Reads L-Galaxy output files.\n",
    "    Returns: (nTrees,nHalos,nTreeHalos,gals)\n",
    "    Inputs: (folder,file_prefix,firstfile,lastfile,props,template)\n",
    "    props - list of properties to return\n",
    "    template - structure dtype definition from database \"\"\"     \n",
    "    nTrees = 0\n",
    "    nHalos = 0    \n",
    "    nTreeHalos = np.array([],dtype=np.int32)\n",
    "    filter_list = []\n",
    "    for prop in props:\n",
    "        if props[prop]:\n",
    "            filter_list.append((prop,template[prop]))\n",
    "    filter_dtype = np.dtype(filter_list)\n",
    "    gals = np.array([],dtype=filter_dtype)\n",
    "    for ifile in range(firstfile,lastfile+1):\n",
    "        filename = folder+'/'+file_prefix+\"_\"+\"%d\"%(ifile)\n",
    "        f = open(filename,\"rb\")\n",
    "        this_nTrees =  np.fromfile(f,np.int32,1)\n",
    "        nTrees += this_nTrees\n",
    "        this_nHalos = np.fromfile(f,np.int32,1)\n",
    "        nHalos += this_nHalos\n",
    "        print (\"File \", ifile,\" nGals = \",this_nHalos)\n",
    "        addednTreeHalos = np.fromfile(f,np.int32,this_nTrees)\n",
    "        nTreeHalos = np.append(nTreeHalos,addednTreeHalos)\n",
    "        this_addedGalaxy = np.fromfile(f,template,this_nHalos) # all properties\n",
    "        addedGalaxy = np.zeros(this_nHalos,dtype=filter_dtype) # selected props\n",
    "        for prop in template.names:\n",
    "            if props[prop]:\n",
    "                addedGalaxy[prop] = this_addedGalaxy[prop]\n",
    "        gals = np.append(gals,addedGalaxy)      \n",
    "        f.close()\n",
    "        \n",
    "    return (nTrees,nHalos,nTreeHalos,gals)\n"
   ]
  },
  {
   "cell_type": "code",
   "execution_count": 22,
   "metadata": {
    "collapsed": false
   },
   "outputs": [],
   "source": []
  },
  {
   "cell_type": "code",
   "execution_count": null,
   "metadata": {
    "collapsed": false
   },
   "outputs": [],
   "source": []
  }
 ],
 "metadata": {
  "kernelspec": {
   "display_name": "Python 3",
   "language": "python",
   "name": "python3"
  },
  "language_info": {
   "codemirror_mode": {
    "name": "ipython",
    "version": 3
   },
   "file_extension": ".py",
   "mimetype": "text/x-python",
   "name": "python",
   "nbconvert_exporter": "python",
   "pygments_lexer": "ipython3",
   "version": "3.5.0"
  }
 },
 "nbformat": 4,
 "nbformat_minor": 0
}
