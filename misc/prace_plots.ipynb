{
 "cells": [
  {
   "cell_type": "code",
   "execution_count": 41,
   "metadata": {},
   "outputs": [],
   "source": [
    "import numpy as np\n",
    "import matplotlib.pyplot as plt\n",
    "from matplotlib.backends.backend_pdf import PdfPages\n",
    "from matplotlib.ticker import MultipleLocator, FormatStrFormatter\n",
    "import matplotlib.ticker as mtick\n",
    "\n",
    "plt.rcParams.update({'font.size': 14, 'xtick.labelsize': 14, 'ytick.labelsize': 14, 'axes.linewidth': 2, \n",
    "                     'xtick.major.size': 6, 'xtick.major.width': 1.5, \n",
    "                     'ytick.major.size': 6, 'ytick.major.width': 1.5, \n",
    "                     'xtick.minor.size': 3, 'xtick.minor.width': 1.,                   \n",
    "                     'ytick.minor.size': 3, 'ytick.minor.width': 1.})  \n",
    "\n",
    "\n",
    "one_one_size_small=[5,4]\n",
    "\n",
    "xlim=[9e4,6e5]\n",
    "ylim=[9e4,6e5]\n",
    "          \n",
    "fig = plt.figure(figsize=(one_one_size_small[0],one_one_size_small[1]))\n",
    "subplot=plt.subplot()\n",
    "subplot.set_ylim(ylim), subplot.set_xlim(xlim)    \n",
    "            \n",
    "#format axis\n",
    "#subplot.xaxis.set_major_locator(style='sci')    \n",
    "#subplot.xaxis.set_minor_locator(MultipleLocator(0.25)) \n",
    "\n",
    "#subplot.yaxis.set_major_formatter(mtick.FormatStrFormatter('%.0e'))\n",
    "#subplot.xaxis.set_major_formatter(mtick.FormatStrFormatter('%.0e'))\n",
    "\n",
    "xlab='Number of MCMC steps'       \n",
    "ylab='CPU time [hours]' \n",
    "\n",
    "subplot.set_xlabel(xlab, fontsize=14), subplot.set_ylabel(ylab, fontsize=14)  \n",
    "\n",
    "x_array=np.array([100000.,200000.,300000.,400000.,500000.])\n",
    "y_array=np.array([100000.,200000.,300000.,400000.,500000.])\n",
    "subplot.scatter(x_array, y_array)\n",
    "#subplot.set_yscale('log')\n",
    "#subplot.set_xscale('log')\n",
    "\n",
    "subplot.ticklabel_format(style='sci', scilimits=(0,0), axis='both')\n",
    "\n",
    "plt.tight_layout()\n",
    "plt.savefig('./prace_performance.pdf')   \n",
    "plt.close()"
   ]
  },
  {
   "cell_type": "code",
   "execution_count": null,
   "metadata": {
    "collapsed": true
   },
   "outputs": [],
   "source": []
  }
 ],
 "metadata": {
  "kernelspec": {
   "display_name": "Python 3",
   "language": "python",
   "name": "python3"
  },
  "language_info": {
   "codemirror_mode": {
    "name": "ipython",
    "version": 3
   },
   "file_extension": ".py",
   "mimetype": "text/x-python",
   "name": "python",
   "nbconvert_exporter": "python",
   "pygments_lexer": "ipython3",
   "version": "3.5.2"
  }
 },
 "nbformat": 4,
 "nbformat_minor": 1
}
