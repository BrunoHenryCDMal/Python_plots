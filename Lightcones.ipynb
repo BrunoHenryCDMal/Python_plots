{
 "cells": [
  {
   "cell_type": "code",
   "execution_count": 20,
   "metadata": {},
   "outputs": [
    {
     "name": "stdout",
     "output_type": "stream",
     "text": [
      "Populating the interactive namespace from numpy and matplotlib\n"
     ]
    },
    {
     "name": "stderr",
     "output_type": "stream",
     "text": [
      "/export/data1/Workspace/GitHub_Python_plots/env/lib/python3.5/site-packages/IPython/core/magics/pylab.py:160: UserWarning: pylab import has clobbered these variables: ['ylim', 'xlim', 'subplot']\n",
      "`%matplotlib` prevents importing * from pylab and numpy\n",
      "  \"\\n`%matplotlib` prevents importing * from pylab and numpy\"\n"
     ]
    },
    {
     "data": {
      "image/png": "[encoded data removed]",
      "text/plain": [
       "<matplotlib.figure.Figure at 0x7f52e408a278>"
      ]
     },
     "metadata": {},
     "output_type": "display_data"
    }
   ],
   "source": [
    "import sys\n",
    "import gc\n",
    "import numpy as np\n",
    "%matplotlib inline\n",
    "\n",
    "import pandas as pd\n",
    "\n",
    "%pylab inline\n",
    "#import seaborn as sns\n",
    "import matplotlib.pyplot as plt\n",
    "import matplotlib.gridspec as gridspec\n",
    "\n",
    "from astropy.table import Table\n",
    "from astropy.io import fits\n",
    "from importlib import reload\n",
    "from matplotlib.ticker import MultipleLocator, FormatStrFormatter\n",
    "from matplotlib.backends.backend_pdf import PdfPages\n",
    "\n",
    "Datadir = '/net/bootes/export/data1/data/'\n",
    "\n",
    "\n",
    "\n",
    "#file=Datadir+'Database_Lightcones_with_SFH_Henriques2015a_M05_K27_001.fits'\n",
    "file='/net/bootes/scratch2/SAM/Henriques2015a/fits/Database_Lightcones_with_SFH_Henriques2015a_M05_K27_01MRDFITS1.fits'\n",
    "fits_table=fits.open(file)\n",
    "Gal = fits_table[1] \n",
    "\n",
    "#Nrandom=1000\n",
    "#Gal=np.random.choice(Gal, size=Nrandom)\n",
    "\n",
    "z_geo=Gal.data['z_geo'][::-1]\n",
    "redshift=Gal.data['redshift'][::-1]\n",
    "\n",
    "#cols = Gal.columns\n",
    "#print(cols)\n",
    "\n",
    "xlim=[0,10.0]\n",
    "ylim=[0,10.0]\n",
    "\n",
    "fig = plt.figure(figsize=(10,10))\n",
    "subplot=plt.subplot()\n",
    "subplot.set_ylim(ylim), subplot.set_xlim(xlim)    \n",
    "            \n",
    "#format axis\n",
    "majorFormatter = FormatStrFormatter('%d')\n",
    "subplot.xaxis.set_major_locator(MultipleLocator(1))    \n",
    "subplot.xaxis.set_minor_locator(MultipleLocator(0.25))\n",
    "            \n",
    "xlab='$z_\\mathrm{geo}$'\n",
    "ylab='$z$'     \n",
    "subplot.set_xlabel(xlab, fontsize=14), subplot.set_ylabel(ylab, fontsize=14)   \n",
    "\n",
    "\n",
    "subplot.scatter(z_geo, redshift,color='blue',marker='o',s=5)\n",
    "\n",
    "fits_table.close()"
   ]
  },
  {
   "cell_type": "code",
   "execution_count": null,
   "metadata": {},
   "outputs": [],
   "source": []
  }
 ],
 "metadata": {
  "kernelspec": {
   "display_name": "Python 3",
   "language": "python",
   "name": "python3"
  },
  "language_info": {
   "codemirror_mode": {
    "name": "ipython",
    "version": 3
   },
   "file_extension": ".py",
   "mimetype": "text/x-python",
   "name": "python",
   "nbconvert_exporter": "python",
   "pygments_lexer": "ipython3",
   "version": "3.5.2"
  }
 },
 "nbformat": 4,
 "nbformat_minor": 2
}
