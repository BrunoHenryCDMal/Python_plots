{
 "cells": [
  {
   "cell_type": "code",
   "execution_count": 1,
   "metadata": {},
   "outputs": [
    {
     "name": "stdout",
     "output_type": "stream",
     "text": [
      "Populating the interactive namespace from numpy and matplotlib\n",
      "reading file 1 of 1\n",
      "reading done\n"
     ]
    }
   ],
   "source": [
    "import sys\n",
    "import gc\n",
    "import numpy as np\n",
    "%matplotlib inline\n",
    "\n",
    "import pandas as pd\n",
    "\n",
    "%pylab inline\n",
    "#import seaborn as sns\n",
    "import matplotlib.pyplot as plt\n",
    "import matplotlib.gridspec as gridspec\n",
    "\n",
    "from astropy.table import Table\n",
    "from astropy.io import fits\n",
    "from importlib import reload\n",
    "from matplotlib.ticker import MultipleLocator, FormatStrFormatter\n",
    "from matplotlib.backends.backend_pdf import PdfPages\n",
    "\n",
    "Datadir = '/net/bootes/export/data1/data/'\n",
    "\n",
    "Gal = {}\n",
    "\n",
    "N = 1\n",
    "for ii in range (0,N):    \n",
    "    file='/scratch2/SAM/Henriques2015a/fits/Database_Lightcones_with_SFH_Henriques2015a_M05_K27_0{:02d}.fits'.format(ii+1)\n",
    "    print(\"reading file {:d} of {:d}\".format(ii+1,N))    \n",
    "    fits_table = fits.open(file)    \n",
    "    #print(fits_table[1].columns)\n",
    "    Gal[ii] = fits_table[1] \n",
    "\n",
    "\n",
    "print(\"reading done\")"
   ]
  },
  {
   "cell_type": "markdown",
   "metadata": {},
   "source": [
    "### Redshift counts"
   ]
  },
  {
   "cell_type": "code",
   "execution_count": 6,
   "metadata": {},
   "outputs": [
    {
     "name": "stdout",
     "output_type": "stream",
     "text": [
      "doing file 1 of 15\n",
      "doing file 2 of 15\n"
     ]
    },
    {
     "name": "stderr",
     "output_type": "stream",
     "text": [
      "/export/data1/Workspace/GitHub_Python_plots/py3env/lib/python3.6/site-packages/ipykernel_launcher.py:21: FutureWarning: Using a non-tuple sequence for multidimensional indexing is deprecated; use `arr[tuple(seq)]` instead of `arr[seq]`. In the future this will be interpreted as an array index, `arr[np.array(seq)]`, which will result either in an error or a different result.\n"
     ]
    },
    {
     "name": "stdout",
     "output_type": "stream",
     "text": [
      "doing file 3 of 15\n",
      "doing file 4 of 15\n",
      "doing file 5 of 15\n",
      "doing file 6 of 15\n",
      "doing file 7 of 15\n",
      "doing file 8 of 15\n",
      "doing file 9 of 15\n",
      "doing file 10 of 15\n",
      "doing file 11 of 15\n",
      "doing file 12 of 15\n",
      "doing file 13 of 15\n",
      "doing file 14 of 15\n",
      "doing file 15 of 15\n"
     ]
    },
    {
     "name": "stderr",
     "output_type": "stream",
     "text": [
      "/export/data1/Workspace/GitHub_Python_plots/py3env/lib/python3.6/site-packages/ipykernel_launcher.py:33: RuntimeWarning: divide by zero encountered in log10\n"
     ]
    }
   ],
   "source": [
    "fig , ax = plt.subplots(figsize=(10,10))\n",
    "\n",
    "xlim = [0, 3]\n",
    "ylim = [4.5, 5.5]\n",
    "\n",
    "\n",
    "\n",
    "\n",
    "bin=0.2\n",
    "hist_limits = [0.0,20.0]\n",
    "bin_arr=np.arange(hist_limits[0],hist_limits[1]+bin,bin)\n",
    "\n",
    "all_hists = np.zeros((len(bin_arr)-1,N), dtype=np.float32)\n",
    "median_hist = np.zeros(len(bin_arr)-1, dtype=np.float32)\n",
    "pc16_hist = np.zeros(len(bin_arr)-1, dtype=np.float32)\n",
    "pc84_hist = np.zeros(len(bin_arr)-1, dtype=np.float32)\n",
    "\n",
    "for ii in range(0,N):\n",
    "    print(\"doing file {:d} of {:d}\".format(ii+1,N))\n",
    "    Gal_i = Gal[ii]    \n",
    "    redshift = Gal_i.data['z_app'][[Gal_i.data['OBS_APP_H']<25.]]\n",
    "    hist = np.histogram(redshift, bins=bin_arr, range=(hist_limits[0],hist_limits[1]))      \n",
    "    x_axis=hist[1][0:len(hist[1][:])-1]+bin/2.    \n",
    "    all_hists[:,ii]=hist[0]/(bin*1.4*1.4)    \n",
    "\n",
    "for idx, element in enumerate(x_axis):   \n",
    "    median_hist[idx] = np.median(all_hists[idx,:])\n",
    "    pc16_hist[idx] = np.percentile(all_hists[idx,:],16)\n",
    "    pc84_hist[idx] = np.percentile(all_hists[idx,:],84)\n",
    "    \n",
    "sel = where(pc16_hist>0.)\n",
    "ax.fill_between(x_axis[sel],np.log10(pc16_hist[sel]),np.log10(pc84_hist[sel]),facecolor='grey', interpolate=True, alpha=0.3)  \n",
    "ax.plot(x_axis,np.log10(median_hist))\n",
    "        \n",
    "ax.set_xlim(xlim), ax.set_ylim(ylim)\n",
    "ax.set_xlabel('Redshift'), ax.set_ylabel('$\\log_{10}(N[\\mathrm{deg}^{-2}\\mathrm{z}^{-1}])$')\n",
    "\n",
    "plt.savefig('./fig/Moons_zcounts.pdf')\n",
    "plt.close()"
   ]
  },
  {
   "cell_type": "markdown",
   "metadata": {},
   "source": [
    "### H-band number counts"
   ]
  },
  {
   "cell_type": "code",
   "execution_count": 4,
   "metadata": {},
   "outputs": [
    {
     "name": "stderr",
     "output_type": "stream",
     "text": [
      "/export/data1/Workspace/GitHub_Python_plots/py3env/lib/python3.6/site-packages/ipykernel_launcher.py:21: FutureWarning: Using a non-tuple sequence for multidimensional indexing is deprecated; use `arr[tuple(seq)]` instead of `arr[seq]`. In the future this will be interpreted as an array index, `arr[np.array(seq)]`, which will result either in an error or a different result.\n",
      "/export/data1/Workspace/GitHub_Python_plots/py3env/lib/python3.6/site-packages/ipykernel_launcher.py:33: RuntimeWarning: divide by zero encountered in log10\n"
     ]
    }
   ],
   "source": [
    "fig , ax = plt.subplots(figsize=(10,10))\n",
    "\n",
    "xlim = [10, 25]\n",
    "ylim = [0., 6.]\n",
    "\n",
    "ax.set_xlim(xlim), ax.set_ylim(ylim)\n",
    "ax.set_xlabel('Redshift'), ax.set_ylabel('$\\log_{10}(N[\\mathrm{deg}^{-2}\\mathrm{mag}^{-1}])$')\n",
    "\n",
    "\n",
    "bin=0.5\n",
    "hist_limits = [0.0,30.0]\n",
    "bin_arr=np.arange(hist_limits[0],hist_limits[1]+bin,bin)\n",
    "\n",
    "all_hists = np.zeros((len(bin_arr)-1,N), dtype=np.float32)\n",
    "median_hist = np.zeros(len(bin_arr)-1, dtype=np.float32)\n",
    "pc16_hist = np.zeros(len(bin_arr)-1, dtype=np.float32)\n",
    "pc84_hist = np.zeros(len(bin_arr)-1, dtype=np.float32)\n",
    "\n",
    "for ii in range(0,N):\n",
    "    Gal_i = Gal[ii]    \n",
    "    redshift = Gal_i.data['OBS_APP_H'][[Gal_i.data['OBS_APP_H']<25.]]\n",
    "    hist = np.histogram(redshift, bins=bin_arr, range=(hist_limits[0],hist_limits[1]))      \n",
    "    x_axis=hist[1][0:len(hist[1][:])-1]+bin/2.    \n",
    "    all_hists[:,ii]=hist[0]/(bin*1.4*1.4)   \n",
    "\n",
    "for idx, element in enumerate(x_axis):   \n",
    "    median_hist[idx] = np.median(all_hists[idx,:])\n",
    "    pc16_hist[idx] = np.percentile(all_hists[idx,:],16)\n",
    "    pc84_hist[idx] = np.percentile(all_hists[idx,:],84)\n",
    "    \n",
    "sel = where(pc16_hist>0.)\n",
    "ax.fill_between(x_axis[sel],np.log10(pc16_hist[sel]),np.log10(pc84_hist[sel]),facecolor='grey', interpolate=True, alpha=0.3)  \n",
    "ax.plot(x_axis,np.log10(median_hist))\n",
    "  \n",
    "\n",
    "columns = ['mag','phi_j','error_j','phi_h','error_h','phi_k','error_k']\n",
    "df_obs = pd.read_csv(Datadir+'keenan2010_jhk_counts.txt', skiprows=[0], header=None, delimiter=' ', names= columns)\n",
    "df_obs['error_h'] = np.log10(10**df_obs['phi_h']+10**df_obs['error_h'])-np.log10(10**df_obs['phi_h']-10**df_obs['error_h'])\n",
    "ax.errorbar(df_obs['mag'], df_obs['phi_h'], df_obs['error_h'], fmt='o', markersize=5, mfc='darkviolet', markeredgecolor='darkviolet', color='darkviolet')\n",
    "\n",
    "plt.savefig('./fig/Moons_Hcounts.pdf')\n",
    "plt.close()"
   ]
  },
  {
   "cell_type": "markdown",
   "metadata": {},
   "source": [
    "### Z_geo vs redshift"
   ]
  },
  {
   "cell_type": "code",
   "execution_count": 6,
   "metadata": {},
   "outputs": [
    {
     "data": {
      "image/png": "[encoded data removed]",
      "text/plain": [
       "<Figure size 720x720 with 1 Axes>"
      ]
     },
     "metadata": {
      "needs_background": "light"
     },
     "output_type": "display_data"
    }
   ],
   "source": [
    "#Nrandom=1000\n",
    "#Gal=np.random.choice(Gal, size=Nrandom)\n",
    "\n",
    "z_geo=Gal[0].data['z_geo'][::-1]\n",
    "redshift=Gal[0].data['redshift'][::-1]\n",
    "\n",
    "#cols = Gal.columns\n",
    "#print(cols)\n",
    "\n",
    "xlim=[0,10.0]\n",
    "ylim=[0,10.0]\n",
    "\n",
    "fig = plt.figure(figsize=(10,10))\n",
    "subplot=plt.subplot()\n",
    "subplot.set_ylim(ylim), subplot.set_xlim(xlim)    \n",
    "            \n",
    "#format axis\n",
    "majorFormatter = FormatStrFormatter('%d')\n",
    "subplot.xaxis.set_major_locator(MultipleLocator(1))    \n",
    "subplot.xaxis.set_minor_locator(MultipleLocator(0.25))\n",
    "            \n",
    "xlab='$z_\\mathrm{geo}$'\n",
    "ylab='$z$'     \n",
    "subplot.set_xlabel(xlab, fontsize=14), subplot.set_ylabel(ylab, fontsize=14)   \n",
    "\n",
    "\n",
    "subplot.scatter(z_geo, redshift,color='blue',marker='o',s=5)\n",
    "\n",
    "fits_table.close()"
   ]
  },
  {
   "cell_type": "code",
   "execution_count": null,
   "metadata": {},
   "outputs": [],
   "source": []
  }
 ],
 "metadata": {
  "kernelspec": {
   "display_name": "Python 3",
   "language": "python",
   "name": "python3"
  },
  "language_info": {
   "codemirror_mode": {
    "name": "ipython",
    "version": 3
   },
   "file_extension": ".py",
   "mimetype": "text/x-python",
   "name": "python",
   "nbconvert_exporter": "python",
   "pygments_lexer": "ipython3",
   "version": "3.6.7"
  }
 },
 "nbformat": 4,
 "nbformat_minor": 2
}
