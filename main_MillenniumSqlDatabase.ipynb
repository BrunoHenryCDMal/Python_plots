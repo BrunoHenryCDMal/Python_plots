{
 "cells": [
  {
   "cell_type": "code",
   "execution_count": 35,
   "metadata": {},
   "outputs": [],
   "source": [
    "from importlib import reload\n",
    "\n",
    "import MillenniumSQL\n",
    "\n",
    "reload(MillenniumSQL)\n",
    "\n",
    "conn = connect(\"bhenriques\", password=\"fPMitZK\")"
   ]
  },
  {
   "cell_type": "code",
   "execution_count": null,
   "metadata": {},
   "outputs": [],
   "source": [
    "query = 'select top 100 stellarmass from Henriques2015a_new..MRIIscPlanck1'\n",
    "query = 'select count(*) as count from Henriques2015a..MRIIscPlanck1 where SnapNum=40'\n",
    "\n",
    "query = '''with gals_z0 as \n",
    "           (\n",
    "             select top 10 GalaxyID, LastprogenitorID \n",
    "               from Henriques2015a_new..MRIIscPlanck1 \n",
    "              where SnapNum=40 and galaxyID<1000000000\n",
    "           )\n",
    "           select b.Snapnum as Snapnum\n",
    "             from gals_z0 a, \n",
    "                  Henriques2015a_new..MRIIscPlanck1 b\n",
    "                  where b.galaxyID between a.galaxyid and a.LastprogenitorID'''\n",
    "\n",
    "result = execute_query(conn, query)\n",
    "data = [x[0] for x in result]\n",
    "print(np.max(data))"
   ]
  },
  {
   "cell_type": "code",
   "execution_count": 36,
   "metadata": {},
   "outputs": [
    {
     "name": "stdout",
     "output_type": "stream",
     "text": [
      "('mass', 'count')\n"
     ]
    }
   ],
   "source": [
    "query = '''select .5*(.5+floor((stellarmass/0.673)/.5)) as mass,\n",
    "                  count(*) as count\n",
    "             from Henriques2015a_new..MRIIscPlanck1\n",
    "            where snapnum=62 and stellarmass>0.1\n",
    "         group by floor((stellarmass/0.673)/.5)\n",
    "         order by 1'''\n",
    "\n",
    "result = execute_query(conn, query)\n",
    "#data = [x[0] for x in result]\n",
    "print(result.dtype.names)"
   ]
  },
  {
   "cell_type": "code",
   "execution_count": 38,
   "metadata": {},
   "outputs": [
    {
     "name": "stdout",
     "output_type": "stream",
     "text": [
      "[2.500e+09 7.500e+09 1.250e+10 1.750e+10 2.250e+10 2.750e+10 3.250e+10\n",
      " 3.750e+10 4.250e+10 4.750e+10 5.250e+10 5.750e+10 6.250e+10 6.750e+10\n",
      " 7.250e+10 7.750e+10 8.250e+10 8.750e+10 9.250e+10 9.750e+10 1.025e+11\n",
      " 1.075e+11 1.125e+11 1.175e+11 1.225e+11 1.275e+11 1.325e+11 1.375e+11\n",
      " 1.425e+11 1.475e+11 1.525e+11 1.575e+11 1.625e+11 1.675e+11 1.725e+11\n",
      " 1.825e+11 1.875e+11 1.925e+11 2.025e+11 2.075e+11 2.175e+11 2.375e+11\n",
      " 2.425e+11 2.475e+11 2.525e+11 2.575e+11 2.625e+11 2.675e+11 2.725e+11\n",
      " 3.375e+11 3.425e+11 4.525e+11]\n"
     ]
    }
   ],
   "source": [
    "print(result['mass']*1.e10)"
   ]
  },
  {
   "cell_type": "code",
   "execution_count": null,
   "metadata": {},
   "outputs": [],
   "source": []
  }
 ],
 "metadata": {
  "kernelspec": {
   "display_name": "Python 3",
   "language": "python",
   "name": "python3"
  },
  "language_info": {
   "codemirror_mode": {
    "name": "ipython",
    "version": 3
   },
   "file_extension": ".py",
   "mimetype": "text/x-python",
   "name": "python",
   "nbconvert_exporter": "python",
   "pygments_lexer": "ipython3",
   "version": "3.6.7"
  }
 },
 "nbformat": 4,
 "nbformat_minor": 2
}
