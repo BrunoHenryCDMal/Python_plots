{
 "cells": [
  {
   "cell_type": "code",
   "execution_count": 1,
   "metadata": {
    "collapsed": true
   },
   "outputs": [],
   "source": [
    "import SciServer.CasJobs as cj"
   ]
  },
  {
   "cell_type": "code",
   "execution_count": 2,
   "metadata": {
    "collapsed": false
   },
   "outputs": [
    {
     "name": "stdout",
     "output_type": "stream",
     "text": [
      "Waiting...Waiting...Waiting...Waiting...Waiting...Done!\n"
     ]
    },
    {
     "data": {
      "text/plain": [
       "{'AutoComplete': 0,\n",
       " 'Created_Table': None,\n",
       " 'Estimate': 500,\n",
       " 'HostIP': 'Henriques2015a_',\n",
       " 'JobID': 33820523,\n",
       " 'Message': \"There is already an object named 'Bruno2' in the database.\",\n",
       " 'ModifiedQuery': 'select GalaxyID,\\n        lastProgenitorId\\n\\n   from MRscPlanck1\\n  where redshift >3 and stellarmass/0.673>10.\\n    and Sfr/(stellarmass*1.e10/0.673)< 1.e-10/*CASJOBS_INTO_TABLE:[sdss3q].mydb_999687452.webuser.Bruno2*/',\n",
       " 'OutputLoc': '',\n",
       " 'OutputType': 'QUERY',\n",
       " 'Params': '',\n",
       " 'Query': 'select GalaxyID,\\n        lastProgenitorId\\ninto MyDB.Bruno2\\n   from MRscPlanck1\\n  where redshift >3 and stellarmass/0.673>10.\\n    and Sfr/(stellarmass*1.e10/0.673)< 1.e-10',\n",
       " 'Rows': None,\n",
       " 'SendEmail': 0,\n",
       " 'Status': 4,\n",
       " 'Target': 'Henriques2015a',\n",
       " 'TaskName': 'Compute.SciScript-Python.CasJobs.submitJob',\n",
       " 'TimeEnd': '2017-11-21T10:31:52.473',\n",
       " 'TimeStart': '2017-11-21T10:31:46.943',\n",
       " 'TimeSubmit': '2017-11-21T10:31:46.503',\n",
       " 'WebServicesID': 999687452}"
      ]
     },
     "execution_count": 2,
     "metadata": {},
     "output_type": "execute_result"
    }
   ],
   "source": [
    "query = '''select GalaxyID,\n",
    "        lastProgenitorId\n",
    "into MyDB.Bruno2\n",
    "   from MRscPlanck1\n",
    "  where redshift >3 and stellarmass/0.673>10.\n",
    "    and Sfr/(stellarmass*1.e10/0.673)< 1.e-10'''\n",
    "\n",
    "DB = 'Henriques2015a'\n",
    "jobId = cj.submitJob(query,DB)\n",
    "\n",
    "cj.waitForJob(jobId)\n",
    "\n"
   ]
  },
  {
   "cell_type": "code",
   "execution_count": 3,
   "metadata": {
    "collapsed": false
   },
   "outputs": [
    {
     "data": {
      "text/html": [
       "<div>\n",
       "<style>\n",
       "    .dataframe thead tr:only-child th {\n",
       "        text-align: right;\n",
       "    }\n",
       "\n",
       "    .dataframe thead th {\n",
       "        text-align: left;\n",
       "    }\n",
       "\n",
       "    .dataframe tbody tr th {\n",
       "        vertical-align: top;\n",
       "    }\n",
       "</style>\n",
       "<table border=\"1\" class=\"dataframe\">\n",
       "  <thead>\n",
       "    <tr style=\"text-align: right;\">\n",
       "      <th></th>\n",
       "      <th>GalaxyID</th>\n",
       "      <th>lastProgenitorId</th>\n",
       "    </tr>\n",
       "  </thead>\n",
       "  <tbody>\n",
       "    <tr>\n",
       "      <th>0</th>\n",
       "      <td>309001075000038</td>\n",
       "      <td>309001075000188</td>\n",
       "    </tr>\n",
       "    <tr>\n",
       "      <th>1</th>\n",
       "      <td>421006369000040</td>\n",
       "      <td>421006369000218</td>\n",
       "    </tr>\n",
       "    <tr>\n",
       "      <th>2</th>\n",
       "      <td>421006369000038</td>\n",
       "      <td>421006369000324</td>\n",
       "    </tr>\n",
       "    <tr>\n",
       "      <th>3</th>\n",
       "      <td>476001178002580</td>\n",
       "      <td>476001178002763</td>\n",
       "    </tr>\n",
       "    <tr>\n",
       "      <th>4</th>\n",
       "      <td>277020306005762</td>\n",
       "      <td>277020306005944</td>\n",
       "    </tr>\n",
       "    <tr>\n",
       "      <th>5</th>\n",
       "      <td>172008358000084</td>\n",
       "      <td>172008358000419</td>\n",
       "    </tr>\n",
       "    <tr>\n",
       "      <th>6</th>\n",
       "      <td>226000085016174</td>\n",
       "      <td>226000085016319</td>\n",
       "    </tr>\n",
       "    <tr>\n",
       "      <th>7</th>\n",
       "      <td>353014409000038</td>\n",
       "      <td>353014409000191</td>\n",
       "    </tr>\n",
       "    <tr>\n",
       "      <th>8</th>\n",
       "      <td>285000066000038</td>\n",
       "      <td>285000066000152</td>\n",
       "    </tr>\n",
       "    <tr>\n",
       "      <th>9</th>\n",
       "      <td>421006369000039</td>\n",
       "      <td>421006369000272</td>\n",
       "    </tr>\n",
       "    <tr>\n",
       "      <th>10</th>\n",
       "      <td>191000123000038</td>\n",
       "      <td>191000123000169</td>\n",
       "    </tr>\n",
       "    <tr>\n",
       "      <th>11</th>\n",
       "      <td>194000043000038</td>\n",
       "      <td>194000043000206</td>\n",
       "    </tr>\n",
       "    <tr>\n",
       "      <th>12</th>\n",
       "      <td>140005829341238</td>\n",
       "      <td>140005829341557</td>\n",
       "    </tr>\n",
       "    <tr>\n",
       "      <th>13</th>\n",
       "      <td>140005829341239</td>\n",
       "      <td>140005829341499</td>\n",
       "    </tr>\n",
       "    <tr>\n",
       "      <th>14</th>\n",
       "      <td>340000062000038</td>\n",
       "      <td>340000062000139</td>\n",
       "    </tr>\n",
       "    <tr>\n",
       "      <th>15</th>\n",
       "      <td>168008668004626</td>\n",
       "      <td>168008668004732</td>\n",
       "    </tr>\n",
       "    <tr>\n",
       "      <th>16</th>\n",
       "      <td>448000100000038</td>\n",
       "      <td>448000100000199</td>\n",
       "    </tr>\n",
       "  </tbody>\n",
       "</table>\n",
       "</div>"
      ],
      "text/plain": [
       "           GalaxyID  lastProgenitorId\n",
       "0   309001075000038   309001075000188\n",
       "1   421006369000040   421006369000218\n",
       "2   421006369000038   421006369000324\n",
       "3   476001178002580   476001178002763\n",
       "4   277020306005762   277020306005944\n",
       "5   172008358000084   172008358000419\n",
       "6   226000085016174   226000085016319\n",
       "7   353014409000038   353014409000191\n",
       "8   285000066000038   285000066000152\n",
       "9   421006369000039   421006369000272\n",
       "10  191000123000038   191000123000169\n",
       "11  194000043000038   194000043000206\n",
       "12  140005829341238   140005829341557\n",
       "13  140005829341239   140005829341499\n",
       "14  340000062000038   340000062000139\n",
       "15  168008668004626   168008668004732\n",
       "16  448000100000038   448000100000199"
      ]
     },
     "execution_count": 3,
     "metadata": {},
     "output_type": "execute_result"
    }
   ],
   "source": [
    "df=cj.executeQuery(\"select * from Bruno1\",\"MyDB\")\n",
    "df"
   ]
  },
  {
   "cell_type": "code",
   "execution_count": null,
   "metadata": {
    "collapsed": true
   },
   "outputs": [],
   "source": []
  }
 ],
 "metadata": {
  "kernelspec": {
   "display_name": "Python 3",
   "language": "python",
   "name": "python3"
  },
  "language_info": {
   "codemirror_mode": {
    "name": "ipython",
    "version": 3
   },
   "file_extension": ".py",
   "mimetype": "text/x-python",
   "name": "python",
   "nbconvert_exporter": "python",
   "pygments_lexer": "ipython3",
   "version": "3.5.1+"
  }
 },
 "nbformat": 4,
 "nbformat_minor": 1
}
